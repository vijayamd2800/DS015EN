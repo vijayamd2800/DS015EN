{
 "cells": [
  {
   "cell_type": "markdown",
   "metadata": {},
   "source": [
    "<center>\n",
    "    <img src=\"https://cf-courses-data.s3.us.cloud-object-storage.appdomain.cloud/IBMDeveloperSkillsNetwork-DS0105EN-SkillsNetwork/labs/Module2/images/SN_web_lightmode.png\" width=\"300\" alt=\"cognitiveclass.ai logo\"  />\n",
    "</center>\n"
   ]
  },
  {
   "cell_type": "markdown",
   "metadata": {},
   "source": [
    "#### Add your code below following the instructions given in the course\n"
   ]
  },
  {
   "cell_type": "markdown",
   "metadata": {},
   "source": [
    "# Peer-graded Assignment: Create and Share Your Jupyter Notebook"
   ]
  },
  {
   "cell_type": "markdown",
   "metadata": {},
   "source": [
    "**Vijay Kumar Mishra**.\n",
    "Currently I am working as an IT Manger and looking forward to join the team of Data Scientists."
   ]
  },
  {
   "cell_type": "markdown",
   "metadata": {},
   "source": [
    "*I am interested in data sceience because I find it the most challanging job for me to learn. I have been finding a perfect area to upgrade my current skills. I trust that after becoming a data scientist I will able to solve several problems faced by common citizens by way of my meaningful analysis.* "
   ]
  },
  {
   "cell_type": "markdown",
   "metadata": {},
   "source": [
    "***We are going to add two values in Cell 5.***"
   ]
  },
  {
   "cell_type": "markdown",
   "metadata": {},
   "source": [
    " \n",
    "    ********* \n",
    "    ---------\n",
    "    _________\n",
    "    \n",
    "   - First item\n",
    "   - Second item\n",
    "   - Third item\n",
    "   - Fourth item\n",
    "   \n",
    "  1. First item\n",
    "  2. Second item\n",
    "  3. Third item\n",
    "  4. Fourth item    \n",
    "  \n",
    "  <html>\n",
    "    <table>\n",
    "  <tr>\n",
    "    <th>Company</th>\n",
    "    <th>Contact</th>\n",
    "    <th>Country</th>\n",
    "  </tr>\n",
    "  <tr>\n",
    "    <td>Vijay Mishra</td>\n",
    "    <td>Archana Mishra</td>\n",
    "    <td>India</td>\n",
    "  </tr>\n",
    "  <tr>\n",
    "    <td>Archana Mishra</td>\n",
    "    <td>Vijay Mishra </td>\n",
    "    <td>India</td>\n",
    "  </tr>\n",
    "</table>\n",
    "  </html>\n",
    "  \n",
    "  \n",
    "  My favorite news chanel site is [Khabardar News](https://thekhabardar.com).\n",
    "  \n",
    "  ![My profile pic!](https://encrypted-tbn0.gstatic.com/images?q=tbn:ANd9GcRUp7JTYB2Pk20BDxVsmHlGsLYmqrcF9QYtmjiBsU9i5xiYomSlrDeCYUT1R3bPwitC7wE&usqp=CAU \"Vijay Mishra\")"
   ]
  }
 ],
 "metadata": {
  "kernelspec": {
   "display_name": "Python",
   "language": "python",
   "name": "conda-env-python-py"
  },
  "language_info": {
   "codemirror_mode": {
    "name": "ipython",
    "version": 3
   },
   "file_extension": ".py",
   "mimetype": "text/x-python",
   "name": "python",
   "nbconvert_exporter": "python",
   "pygments_lexer": "ipython3",
   "version": "3.7.12"
  }
 },
 "nbformat": 4,
 "nbformat_minor": 4
}
